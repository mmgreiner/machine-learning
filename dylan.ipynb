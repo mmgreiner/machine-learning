{
 "cells": [
  {
   "cell_type": "markdown",
   "metadata": {},
   "source": [
    "# Information Retrieval mit Bob Dylan"
   ]
  },
  {
   "cell_type": "markdown",
   "metadata": {},
   "source": [
    "Ein Dokument ist einfach eine Text Datei. Wir haben die Liedtexte von *Forever young*, *knockin' on Heaven's door*, *Like a rolling stone*, und *Times they are a-changing* in vier Dateien abgelegt.\n",
    "\n",
    "Siehe auch [wikipedia Tf-idf](https://de.wikipedia.org/wiki/Tf-idf-Ma%C3%9F).\n",
    "\n",
    "In einem ersten Schritt müssenn wir aus diesen Textdateien die einzelnen Wörter extrahieren. Man nennt das *tokenize*."
   ]
  },
  {
   "cell_type": "code",
   "execution_count": 1,
   "metadata": {},
   "outputs": [
    {
     "data": {
      "text/plain": [
       ":tokenize"
      ]
     },
     "execution_count": 1,
     "metadata": {},
     "output_type": "execute_result"
    }
   ],
   "source": [
    "class Document\n",
    "  attr_reader :filename, :words\n",
    "  def initialize(filename)\n",
    "    @filename = File.basename(filename)\n",
    "    @words = tokenize(filename)\n",
    "  end\n",
    "\n",
    "  private\n",
    "  # split the text in the given file into individual words and convert them to small letters\n",
    "  def tokenize(filename)\n",
    "    txt = File.read(filename)\n",
    "    # Trennzeichen sind Leerschläge \\s, Punkt, Komma, Strichpunkt, und Anführungszeichen\n",
    "    # Ausserdem konvertieren wir alle Wörter zu Kleinschreibung.\n",
    "    txt.split(/[\\s.,;\"]/).map(&:downcase)  \n",
    "  end\n",
    "end"
   ]
  },
  {
   "cell_type": "markdown",
   "metadata": {},
   "source": [
    "Jetzt brauchen wir noch eine Funktion, welche die Wörter zählt. Dafür erstellen wir eine Liste `h`, welche alle Wörter und wie oft sie vorkommen enthält."
   ]
  },
  {
   "cell_type": "code",
   "execution_count": 2,
   "metadata": {},
   "outputs": [
    {
     "data": {
      "text/plain": [
       ":counters"
      ]
     },
     "execution_count": 2,
     "metadata": {},
     "output_type": "execute_result"
    }
   ],
   "source": [
    "class Document\n",
    "  def counters\n",
    "    h = {}\n",
    "    @words.each do |t|\n",
    "      h[t] = if h[t].nil? then 1 else h[t] + 1 end\n",
    "    end\n",
    "    h.sort_by{ |_, v| -v }    # sortieren mit grösster Wert oben (deshalb `-v``)\n",
    "  end\n",
    "end"
   ]
  },
  {
   "cell_type": "markdown",
   "metadata": {},
   "source": [
    "Wir können jetzt die Statistik für alle Dokumente laufen lassen"
   ]
  },
  {
   "cell_type": "code",
   "execution_count": 3,
   "metadata": {},
   "outputs": [
    {
     "data": {
      "text/plain": [
       "[[\"the\", 23], [\"\", 15], [\"and\", 11], [\"your\", 10], [\"are\", 7], [\"will\", 6], [\"be\", 6], [\"times\", 6], [\"you\", 6], [\"they\", 6], [\"a-changing\", 6], [\"is\", 5], [\"for\", 5], [\"come\", 5], [\"now\", 4], [\"that\", 4], [\"later\", 4], [\"to\", 3], [\"who\", 3], [\"soon\", 3], [\"it\", 3], [\"'cause\", 3], [\"don′t\", 3], [\"you'll\", 2], [\"he\", 2], [\"in\", 2], [\"please\", 2], [\"rapidly\", 2], [\"if\", 2], [\"one\", 2], [\"rattle\", 1], [\"walls\", 1], [\"mothers\", 1], [\"fathers\", 1], [\"doorway\", 1], [\"throughout\", 1], [\"land\", 1], [\"criticize\", 1], [\"what\", 1], [\"′cause\", 1], [\"windows\", 1], [\"shake\", 1], [\"raging\", 1], [\"outside\", 1], [\"battle\", 1], [\"stalled\", 1], [\"block\", 1], [\"has\", 1], [\"up\", 1], [\"hurt\", 1], [\"hall\", 1], [\"gets\", 1], [\"last\", 1], [\"first\", 1], [\"fading\", 1], [\"order\", 1], [\"past\", 1], [\"present\", 1], [\"as\", 1], [\"fast\", 1], [\"slowest\", 1], [\"cast\", 1], [\"curse\", 1], [\"drawn\", 1], [\"line\", 1], [\"hand\", 1], [\"lend\", 1], [\"can′t\", 1], [\"new\", 1], [\"of\", 1], [\"out\", 1], [\"get\", 1], [\"aging\", 1], [\"road\", 1], [\"old\", 1], [\"command\", 1], [\"beyond\", 1], [\"daughters\", 1], [\"sons\", 1], [\"understand\", 1], [\"can't\", 1], [\"critics\", 1], [\"writers\", 1], [\"stone\", 1], [\"a\", 1], [\"like\", 1], [\"sink\", 1], [\"or\", 1], [\"swimming\", 1], [\"start\", 1], [\"better\", 1], [\"then\", 1], [\"saving\", 1], [\"worth\", 1], [\"time\", 1], [\"bone\", 1], [\"drenched\", 1], [\"accept\", 1], [\"grown\", 1], [\"have\", 1], [\"around\", 1], [\"waters\", 1], [\"admit\", 1], [\"roam\", 1], [\"wherever\", 1], [\"people\", 1], [\"′round\", 1], [\"gather\", 1], [\"stand\", 1], [\"call\", 1], [\"heed\", 1], [\"congressmen\", 1], [\"senators\", 1], [\"win\", 1], [\"loser\", 1], [\"naming\", 1], [\"it's\", 1], [\"telling\", 1], [\"no\", 1], [\"there's\", 1], [\"spin\", 1], [\"still\", 1], [\"wheel′s\", 1], [\"too\", 1], [\"speak\", 1], [\"don't\", 1], [\"again\", 1], [\"won′t\", 1], [\"chance\", 1], [\"wide\", 1], [\"eyes\", 1], [\"keep\", 1], [\"pen\", 1], [\"with\", 1], [\"prophesize\", 1]]"
      ]
     },
     "execution_count": 3,
     "metadata": {},
     "output_type": "execute_result"
    }
   ],
   "source": [
    "doc_times = Document.new \"songs/times.txt\"  # Dokument times-are-changing\n",
    "doc_times.counters"
   ]
  },
  {
   "cell_type": "code",
   "execution_count": null,
   "metadata": {},
   "outputs": [],
   "source": [
    "require 'charty'\n",
    "Charty::Backends.use(:plotly)\n",
    "words = doc_times.counters.map{ |t| t[0] }\n",
    "counts = doc_times.counters.map{ |t| t[1] }\n",
    "chart = Charty::Bar.new(data: data, x: :words, y: :counts)\n",
    "chart.plot \n"
   ]
  },
  {
   "cell_type": "code",
   "execution_count": 4,
   "metadata": {},
   "outputs": [
    {
     "data": {
      "text/plain": [
       "[[\"may\", 19], [\"you\", 16], [\"forever\", 13], [\"young\", 13], [\"\", 9], [\"be\", 8], [\"always\", 8], [\"and\", 7], [\"stay\", 6], [\"your\", 5], [\"the\", 4], [\"to\", 3], [\"grow\", 2], [\"up\", 2], [\"true\", 2], [\"do\", 2], [\"for\", 2], [\"others\", 2], [\"strong\", 2], [\"a\", 2], [\"swift\", 1], [\"feet\", 1], [\"busy\", 1], [\"hands\", 1], [\"upright\", 1], [\"stand\", 1], [\"courageous\", 1], [\"keep\", 1], [\"have\", 1], [\"foundation\", 1], [\"when\", 1], [\"winds\", 1], [\"of\", 1], [\"changes\", 1], [\"shift\", 1], [\"heart\", 1], [\"joyful\", 1], [\"song\", 1], [\"sung\", 1], [\"wishes\", 1], [\"all\", 1], [\"come\", 1], [\"let\", 1], [\"build\", 1], [\"ladder\", 1], [\"stars\", 1], [\"climb\", 1], [\"on\", 1], [\"every\", 1], [\"rung\", 1], [\"bless\", 1], [\"god\", 1], [\"righteous\", 1], [\"know\", 1], [\"truth\", 1], [\"see\", 1], [\"lights\", 1], [\"surrounding\", 1]]"
      ]
     },
     "execution_count": 4,
     "metadata": {},
     "output_type": "execute_result"
    }
   ],
   "source": [
    "doc_forever = Document.new \"songs/forever.txt\"\n",
    "doc_forever.counters"
   ]
  },
  {
   "cell_type": "code",
   "execution_count": 5,
   "metadata": {},
   "outputs": [
    {
     "data": {
      "text/plain": [
       "[[\"\", 28], [\"you\", 28], [\"to\", 19], [\"a\", 14], [\"it\", 14], [\"the\", 12], [\"how\", 9], [\"on\", 8], [\"feel?\", 8], [\"does\", 8], [\"your\", 8], [\"like\", 8], [\"be\", 6], [\"now\", 6], [\"used\", 6], [\"all\", 6], [\"no\", 5], [\"with\", 5], [\"and\", 5], [\"he\", 5], [\"rolling\", 5], [\"stone\", 5], [\"that\", 5], [\"unknown\", 4], [\"complete\", 4], [\"home\", 4], [\"got\", 4], [\"so\", 4], [\"never\", 3], [\"in\", 3], [\"people\", 3], [\"when\", 3], [\"but\", 3], [\"own\", 3], [\"direction\", 3], [\"get\", 3], [\"they\", 3], [\"you′re\", 2], [\"nothing\", 2], [\"for\", 2], [\"out\", 2], [\"better\", 2], [\"say\", 2], [\"about\", 2], [\"his\", 2], [\"siamese\", 1], [\"shoulder\", 1], [\"discover\", 1], [\"cat\", 1], [\"carried\", 1], [\"can't\", 1], [\"hard\", 1], [\"aingt\", 1], [\"who\", 1], [\"diplomat\", 1], [\"horse\", 1], [\"chrome\", 1], [\"turned\", 1], [\"around\", 1], [\"see\", 1], [\"frowns\", 1], [\"jugglers\", 1], [\"clowns\", 1], [\"did\", 1], [\"tricks\", 1], [\"understood\", 1], [\"aint\", 1], [\"good\", 1], [\"shouldn′t\", 1], [\"let\", 1], [\"other\", 1], [\"kicks\", 1], [\"refuse\", 1], [\"ride\", 1], [\"princess\", 1], [\"steeple\", 1], [\"pretty\", 1], [\"they′re\", 1], [\"drinking\", 1], [\"thinking\", 1], [\"napoleon\", 1], [\"made\", 1], [\"exchanging\", 1], [\"precious\", 1], [\"gifts\", 1], [\"at\", 1], [\"amused\", 1], [\"take\", 1], [\"diamond\", 1], [\"ring\", 1], [\"invisible\", 1], [\"pawn\", 1], [\"babe\", 1], [\"calls\", 1], [\"really\", 1], [\"wasn't\", 1], [\"where\", 1], [\"it′s\", 1], [\"at?\", 1], [\"after\", 1], [\"took\", 1], [\"him\", 1], [\"lose\", 1], [\"from\", 1], [\"go\", 1], [\"language\", 1], [\"conceal\", 1], [\"secrets\", 1], [\"everything\", 1], [\"could\", 1], [\"steal\", 1], [\"rags\", 1], [\"songtext\", 1], [\"were\", 1], [\"kidding\", 1], [\"laugh\", 1], [\"everybody\", 1], [\"was\", 1], [\"hanging\", 1], [\"don't\", 1], [\"talk\", 1], [\"loud\", 1], [\"don′t\", 1], [\"seem\", 1], [\"proud\", 1], [\"having\", 1], [\"scrounging\", 1], [\"next\", 1], [\"meal\", 1], [\"without\", 1], [\"you′ve\", 1], [\"once\", 1], [\"upon\", 1], [\"time\", 1], [\"dressed\", 1], [\"fine\", 1], [\"threw\", 1], [\"bums\", 1], [\"dime\", 1], [\"prime\", 1], [\"didn′t\", 1], [\"you?\", 1], [\"call\", 1], [\"beware\", 1], [\"doll\", 1], [\"you're\", 1], [\"bound\", 1], [\"fall\", 1], [\"thought\", 1], [\"gone\", 1], [\"mystery\", 1], [\"tramp\", 1], [\"realize\", 1], [\"he′s\", 1], [\"not\", 1], [\"selling\", 1], [\"any\", 1], [\"alibis\", 1], [\"as\", 1], [\"stare\", 1], [\"into\", 1], [\"vacuum\", 1], [\"of\", 1], [\"eyes\", 1], [\"do\", 1], [\"want\", 1], [\"make\", 1], [\"deal?\", 1], [\"finest\", 1], [\"school\", 1], [\"right\", 1], [\"miss\", 1], [\"lonely\", 1], [\"know\", 1], [\"only\", 1], [\"juiced\", 1], [\"nobody's\", 1], [\"ever\", 1], [\"taught\", 1], [\"live\", 1], [\"street\", 1], [\"gonna\", 1], [\"have\", 1], [\"said\", 1], [\"you'd\", 1], [\"compromise\", 1]]"
      ]
     },
     "execution_count": 5,
     "metadata": {},
     "output_type": "execute_result"
    }
   ],
   "source": [
    "doc_rolling = Document.new \"songs/rolling.txt\"\n",
    "doc_rolling.counters"
   ]
  },
  {
   "cell_type": "code",
   "execution_count": 6,
   "metadata": {},
   "outputs": [
    {
     "data": {
      "text/plain": [
       "[[\"\", 23], [\"knock\", 16], [\"knocking\", 11], [\"on\", 11], [\"heaven's\", 11], [\"door\", 11], [\"i\", 3], [\"i'm\", 2], [\"feel\", 2], [\"dark\", 2], [\"anymore\", 2], [\"can't\", 2], [\"mama\", 2], [\"that\", 1], [\"long\", 1], [\"black\", 1], [\"them\", 1], [\"shoot\", 1], [\"cloud\", 1], [\"ground\", 1], [\"the\", 1], [\"is\", 1], [\"in\", 1], [\"guns\", 1], [\"my\", 1], [\"coming\", 1], [\"down\", 1], [\"put\", 1], [\"see\", 1], [\"to\", 1], [\"too\", 1], [\"getting\", 1], [\"it's\", 1], [\"it\", 1], [\"use\", 1], [\"me\", 1], [\"of\", 1], [\"off\", 1], [\"badge\", 1], [\"this\", 1], [\"take\", 1], [\"songtext\", 1]]"
      ]
     },
     "execution_count": 6,
     "metadata": {},
     "output_type": "execute_result"
    }
   ],
   "source": [
    "doc_knocking = Document.new \"songs/knocking.txt\"\n",
    "doc_knocking.counters"
   ]
  },
  {
   "cell_type": "markdown",
   "metadata": {},
   "source": [
    "**Anmerkungen**: \n",
    "\n",
    "- wir sehen hier, dass es kleine Wörter gibt, die uns eigentlich nicht weiterhelfen, wie `to`, `a`, `on`, `the`, usw. Bei einer richtigen Anwendung würden wir jetzt diese Wörter rausfiltern. \n"
   ]
  },
  {
   "cell_type": "markdown",
   "metadata": {},
   "source": [
    "Die Vorkommenshäufigkeit (engl: term-frequency oder `tf`) eines Worts in einem Dokument gibt an, wie oft ein Wort in einem Dokument vorkommt. \n",
    "\n",
    "Ein beliebiges Wort wie \"die\" kommt selbstverständlich in einem grossen Dokument viel häufiger vor als in einem kurzen Dokument. Deshalb kann man die Häufigkeit noch dadurch teilen, wie oft das häufigste Wort vorkommt. So sind kurze und lange Dokumente vergleichbar. Dies nennt man *term frequency* oder `tf`."
   ]
  },
  {
   "cell_type": "code",
   "execution_count": 7,
   "metadata": {},
   "outputs": [
    {
     "data": {
      "text/plain": [
       ":tf"
      ]
     },
     "execution_count": 7,
     "metadata": {},
     "output_type": "execute_result"
    }
   ],
   "source": [
    "class Document\n",
    "  def tf(word)\n",
    "    # welches Wort kommt am häufigsten vor?\n",
    "    max_word = @words.max_by{ |w| word.count(w) }\n",
    "    max_count = @words.count(max_word)\n",
    "    @words.count(word).to_f / max_count.to_f\n",
    "  end\n",
    "end"
   ]
  },
  {
   "cell_type": "code",
   "execution_count": 13,
   "metadata": {},
   "outputs": [
    {
     "data": {
      "text/plain": [
       "1.0"
      ]
     },
     "execution_count": 13,
     "metadata": {},
     "output_type": "execute_result"
    }
   ],
   "source": [
    "doc_forever.tf(\"forever\")"
   ]
  },
  {
   "cell_type": "markdown",
   "metadata": {},
   "source": [
    "Die inverse Worthäufigkeit (`idf`) zeigt an, wie speziell ein Wort in der Sammlung aller Dokumente ist. Wörter wie `the` sind nicht sehr speziell und sollten eine kleinen `idf` Wert haben."
   ]
  },
  {
   "cell_type": "code",
   "execution_count": 8,
   "metadata": {},
   "outputs": [
    {
     "data": {
      "text/plain": [
       ":idf"
      ]
     },
     "execution_count": 8,
     "metadata": {},
     "output_type": "execute_result"
    }
   ],
   "source": [
    "class Document\n",
    "  def self.idf(term, documents)\n",
    "    n = documents.size\n",
    "    term_in_documents = documents.sum{ |d| if d.words.include? term then 1 else 0 end }\n",
    "    Math.log(n.to_f / term_in_documents.to_f)\n",
    "  end\n",
    "end"
   ]
  },
  {
   "cell_type": "code",
   "execution_count": 9,
   "metadata": {},
   "outputs": [
    {
     "data": {
      "text/plain": [
       "[#<#<Class:0x000000012a0117d0>::Document:0x000000012aa1d9e0 @filename=\"forever.txt\", @words=[\"forever\", \"young\", \"\", \"may\", \"god\", \"bless\", \"and\", \"keep\", \"you\", \"always\", \"may\", \"your\", \"wishes\", \"all\", \"come\", \"true\", \"may\", \"you\", \"always\", \"do\", \"for\", \"others\", \"and\", \"let\", \"others\", \"do\", \"for\", \"you\", \"may\", \"you\", \"build\", \"a\", \"ladder\", \"to\", \"the\", \"stars\", \"and\", \"climb\", \"on\", \"every\", \"rung\", \"may\", \"you\", \"stay\", \"forever\", \"young\", \"\", \"forever\", \"young\", \"\", \"forever\", \"young\", \"may\", \"you\", \"stay\", \"forever\", \"young\", \"\", \"may\", \"you\", \"grow\", \"up\", \"to\", \"be\", \"righteous\", \"may\", \"you\", \"grow\", \"up\", \"to\", \"be\", \"true\", \"may\", \"you\", \"always\", \"know\", \"the\", \"truth\", \"and\", \"see\", \"the\", \"lights\", \"surrounding\", \"you\", \"may\", \"you\", \"always\", \"be\", \"courageous\", \"stand\", \"upright\", \"and\", \"be\", \"strong\", \"and\", \"may\", \"you\", \"stay\", \"forever\", \"young\", \"\", \"forever\", \"young\", \"\", \"forever\", \"young\", \"may\", \"you\", \"stay\", \"forever\", \"young\", \"\", \"may\", \"your\", \"hands\", \"always\", \"be\", \"busy\", \"may\", \"your\", \"feet\", \"always\", \"be\", \"swift\", \"may\", \"you\", \"have\", \"a\", \"strong\", \"foundation\", \"when\", \"the\", \"winds\", \"of\", \"changes\", \"shift\", \"may\", \"your\", \"heart\", \"always\", \"be\", \"joyful\", \"may\", \"your\", \"song\", \"always\", \"be\", \"sung\", \"and\", \"may\", \"you\", \"stay\", \"forever\", \"young\", \"\", \"forever\", \"young\", \"\", \"forever\", \"young\", \"may\", \"you\", \"stay\", \"forever\", \"young\"]>, #<#<Class:0x000000012a0117d0>::Document:0x000000012ab98478 @filename=\"knocking.txt\", @words=[\"knocking\", \"on\", \"heaven's\", \"door\", \"songtext\", \"\", \"mama\", \"\", \"take\", \"this\", \"badge\", \"off\", \"of\", \"me\", \"i\", \"can't\", \"use\", \"it\", \"anymore\", \"it's\", \"getting\", \"dark\", \"\", \"too\", \"dark\", \"to\", \"see\", \"feel\", \"i'm\", \"knocking\", \"on\", \"heaven's\", \"door\", \"\", \"knock\", \"\", \"knock\", \"\", \"knocking\", \"on\", \"heaven's\", \"door\", \"knock\", \"\", \"knock\", \"\", \"knocking\", \"on\", \"heaven's\", \"door\", \"knock\", \"\", \"knock\", \"\", \"knocking\", \"on\", \"heaven's\", \"door\", \"knock\", \"\", \"knock\", \"\", \"knocking\", \"on\", \"heaven's\", \"door\", \"\", \"mama\", \"\", \"put\", \"my\", \"guns\", \"in\", \"the\", \"ground\", \"i\", \"can't\", \"shoot\", \"them\", \"anymore\", \"that\", \"long\", \"black\", \"cloud\", \"is\", \"coming\", \"down\", \"i\", \"feel\", \"i'm\", \"knocking\", \"on\", \"heaven's\", \"door\", \"\", \"knock\", \"\", \"knock\", \"\", \"knocking\", \"on\", \"heaven's\", \"door\", \"knock\", \"\", \"knock\", \"\", \"knocking\", \"on\", \"heaven's\", \"door\", \"knock\", \"\", \"knock\", \"\", \"knocking\", \"on\", \"heaven's\", \"door\", \"knock\", \"\", \"knock\", \"\", \"knocking\", \"on\", \"heaven's\", \"door\"]>, #<#<Class:0x000000012a0117d0>::Document:0x000000012aa10a88 @filename=\"rolling.txt\", @words=[\"like\", \"a\", \"rolling\", \"stone\", \"songtext\", \"\", \"once\", \"upon\", \"a\", \"time\", \"you\", \"dressed\", \"so\", \"fine\", \"threw\", \"the\", \"bums\", \"a\", \"dime\", \"in\", \"your\", \"prime\", \"\", \"didn′t\", \"you?\", \"people\", \"call\", \"\", \"say\", \"\", \"\", \"beware\", \"doll\", \"you're\", \"bound\", \"to\", \"fall\", \"\", \"you\", \"thought\", \"they\", \"were\", \"all\", \"kidding\", \"you\", \"\", \"you\", \"used\", \"to\", \"laugh\", \"about\", \"everybody\", \"that\", \"was\", \"hanging\", \"out\", \"now\", \"you\", \"don't\", \"talk\", \"so\", \"loud\", \"now\", \"you\", \"don′t\", \"seem\", \"so\", \"proud\", \"about\", \"having\", \"to\", \"be\", \"scrounging\", \"your\", \"next\", \"meal\", \"\", \"how\", \"does\", \"it\", \"feel?\", \"how\", \"does\", \"it\", \"feel?\", \"to\", \"be\", \"without\", \"a\", \"home\", \"like\", \"a\", \"complete\", \"unknown\", \"like\", \"a\", \"rolling\", \"stone\", \"\", \"you′ve\", \"gone\", \"to\", \"the\", \"finest\", \"school\", \"\", \"all\", \"right\", \"miss\", \"lonely\", \"but\", \"you\", \"know\", \"you\", \"only\", \"used\", \"to\", \"get\", \"juiced\", \"in\", \"it\", \"nobody's\", \"ever\", \"taught\", \"you\", \"how\", \"to\", \"live\", \"out\", \"on\", \"the\", \"street\", \"and\", \"now\", \"you′re\", \"gonna\", \"have\", \"to\", \"get\", \"used\", \"to\", \"it\", \"\", \"you\", \"said\", \"you'd\", \"never\", \"compromise\", \"with\", \"the\", \"mystery\", \"tramp\", \"but\", \"now\", \"you\", \"realize\", \"\", \"he′s\", \"not\", \"selling\", \"any\", \"alibis\", \"as\", \"you\", \"stare\", \"into\", \"the\", \"vacuum\", \"of\", \"his\", \"eyes\", \"and\", \"say\", \"\", \"\", \"do\", \"you\", \"want\", \"to\", \"make\", \"a\", \"deal?\", \"\", \"\", \"how\", \"does\", \"it\", \"feel?\", \"how\", \"does\", \"it\", \"feel?\", \"to\", \"be\", \"on\", \"your\", \"own\", \"with\", \"no\", \"direction\", \"home\", \"a\", \"complete\", \"unknown\", \"like\", \"a\", \"rolling\", \"stone\", \"\", \"you\", \"never\", \"turned\", \"around\", \"to\", \"see\", \"the\", \"frowns\", \"on\", \"the\", \"jugglers\", \"and\", \"the\", \"clowns\", \"when\", \"they\", \"all\", \"did\", \"tricks\", \"for\", \"you\", \"never\", \"understood\", \"that\", \"it\", \"aint\", \"no\", \"good\", \"you\", \"shouldn′t\", \"let\", \"other\", \"people\", \"get\", \"your\", \"kicks\", \"for\", \"you\", \"\", \"you\", \"used\", \"to\", \"ride\", \"on\", \"the\", \"chrome\", \"horse\", \"with\", \"your\", \"diplomat\", \"who\", \"carried\", \"on\", \"his\", \"shoulder\", \"a\", \"siamese\", \"cat\", \"aingt\", \"it\", \"hard\", \"when\", \"you\", \"discover\", \"that\", \"he\", \"really\", \"wasn't\", \"where\", \"it′s\", \"at?\", \"after\", \"he\", \"took\", \"from\", \"you\", \"everything\", \"he\", \"could\", \"steal\", \"\", \"how\", \"does\", \"it\", \"feel?\", \"how\", \"does\", \"it\", \"feel?\", \"to\", \"be\", \"on\", \"your\", \"own\", \"with\", \"no\", \"direction\", \"home\", \"like\", \"a\", \"complete\", \"unknown\", \"like\", \"a\", \"rolling\", \"stone\", \"\", \"princess\", \"on\", \"the\", \"steeple\", \"and\", \"all\", \"the\", \"pretty\", \"people\", \"they′re\", \"all\", \"drinking\", \"\", \"thinking\", \"that\", \"they\", \"got\", \"it\", \"made\", \"exchanging\", \"all\", \"precious\", \"gifts\", \"but\", \"you\", \"better\", \"take\", \"your\", \"diamond\", \"ring\", \"\", \"you\", \"better\", \"pawn\", \"it\", \"babe\", \"\", \"you\", \"used\", \"to\", \"be\", \"so\", \"amused\", \"at\", \"napoleon\", \"in\", \"rags\", \"and\", \"the\", \"language\", \"that\", \"he\", \"used\", \"\", \"go\", \"to\", \"him\", \"now\", \"he\", \"calls\", \"you\", \"you\", \"can't\", \"refuse\", \"\", \"when\", \"you\", \"got\", \"nothing\", \"\", \"you\", \"got\", \"nothing\", \"to\", \"lose\", \"you′re\", \"invisible\", \"now\", \"\", \"you\", \"got\", \"no\", \"secrets\", \"to\", \"conceal\", \"\", \"how\", \"does\", \"it\", \"feel?\", \"how\", \"does\", \"it\", \"feel?\", \"to\", \"be\", \"on\", \"your\", \"own\", \"with\", \"no\", \"direction\", \"home\", \"like\", \"a\", \"complete\", \"unknown\", \"like\", \"a\", \"rolling\", \"stone\"]>, #<#<Class:0x000000012a0117d0>::Document:0x000000012985c4b8 @filename=\"times.txt\", @words=[\"the\", \"times\", \"they\", \"are\", \"a-changing\", \"\", \"come\", \"gather\", \"′round\", \"people\", \"wherever\", \"you\", \"roam\", \"and\", \"admit\", \"that\", \"the\", \"waters\", \"around\", \"you\", \"have\", \"grown\", \"and\", \"accept\", \"it\", \"that\", \"soon\", \"you'll\", \"be\", \"drenched\", \"to\", \"the\", \"bone\", \"if\", \"your\", \"time\", \"to\", \"you\", \"is\", \"worth\", \"saving\", \"then\", \"you\", \"better\", \"start\", \"swimming\", \"or\", \"you'll\", \"sink\", \"like\", \"a\", \"stone\", \"for\", \"the\", \"times\", \"\", \"they\", \"are\", \"a-changing\", \"\", \"come\", \"writers\", \"and\", \"critics\", \"who\", \"prophesize\", \"with\", \"your\", \"pen\", \"and\", \"keep\", \"your\", \"eyes\", \"wide\", \"\", \"the\", \"chance\", \"won′t\", \"come\", \"again\", \"and\", \"don't\", \"speak\", \"too\", \"soon\", \"for\", \"the\", \"wheel′s\", \"still\", \"in\", \"spin\", \"and\", \"there's\", \"no\", \"telling\", \"who\", \"that\", \"it's\", \"naming\", \"for\", \"the\", \"loser\", \"now\", \"will\", \"be\", \"later\", \"to\", \"win\", \"'cause\", \"the\", \"times\", \"\", \"they\", \"are\", \"a-changing\", \"\", \"come\", \"senators\", \"\", \"congressmen\", \"\", \"please\", \"heed\", \"the\", \"call\", \"don′t\", \"stand\", \"in\", \"the\", \"doorway\", \"\", \"don′t\", \"block\", \"up\", \"the\", \"hall\", \"for\", \"he\", \"that\", \"gets\", \"hurt\", \"will\", \"be\", \"he\", \"who\", \"has\", \"stalled\", \"'cause\", \"the\", \"battle\", \"outside\", \"raging\", \"will\", \"soon\", \"shake\", \"your\", \"windows\", \"and\", \"rattle\", \"your\", \"walls\", \"for\", \"the\", \"times\", \"\", \"they\", \"are\", \"a-changing\", \"\", \"come\", \"mothers\", \"and\", \"fathers\", \"throughout\", \"the\", \"land\", \"and\", \"don′t\", \"criticize\", \"what\", \"you\", \"can't\", \"understand\", \"your\", \"sons\", \"and\", \"your\", \"daughters\", \"are\", \"beyond\", \"your\", \"command\", \"your\", \"old\", \"road\", \"is\", \"rapidly\", \"aging\", \"please\", \"get\", \"out\", \"of\", \"the\", \"new\", \"one\", \"if\", \"you\", \"can′t\", \"lend\", \"your\", \"hand\", \"'cause\", \"the\", \"times\", \"\", \"they\", \"are\", \"a-changing\", \"\", \"the\", \"line\", \"it\", \"is\", \"drawn\", \"\", \"the\", \"curse\", \"it\", \"is\", \"cast\", \"the\", \"slowest\", \"now\", \"will\", \"later\", \"be\", \"fast\", \"as\", \"the\", \"present\", \"now\", \"will\", \"later\", \"be\", \"past\", \"the\", \"order\", \"is\", \"rapidly\", \"fading\", \"and\", \"the\", \"first\", \"one\", \"now\", \"will\", \"later\", \"be\", \"last\", \"′cause\", \"the\", \"times\", \"\", \"they\", \"are\", \"a-changing\"]>]"
      ]
     },
     "execution_count": 9,
     "metadata": {},
     "output_type": "execute_result"
    }
   ],
   "source": [
    "documents = [ doc_forever, doc_knocking, doc_rolling, doc_times ] "
   ]
  },
  {
   "cell_type": "code",
   "execution_count": 10,
   "metadata": {},
   "outputs": [
    {
     "data": {
      "text/plain": [
       "1.3862943611198906"
      ]
     },
     "execution_count": 10,
     "metadata": {},
     "output_type": "execute_result"
    }
   ],
   "source": [
    "Document.idf(\"may\", documents)"
   ]
  },
  {
   "cell_type": "code",
   "execution_count": 14,
   "metadata": {},
   "outputs": [
    {
     "data": {
      "text/plain": [
       ":tf_idf"
      ]
     },
     "execution_count": 14,
     "metadata": {},
     "output_type": "execute_result"
    }
   ],
   "source": [
    "class Document\n",
    "  def tf_idf(word, documents)\n",
    "    tf(word) * Document.idf(word, documents)\n",
    "  end\n",
    "end"
   ]
  },
  {
   "cell_type": "markdown",
   "metadata": {},
   "source": [
    "Jetzt können wir suchen, in welchem Dokument ein bestimmtes Wort, z.B. *young*, am ehesten vorkommt."
   ]
  },
  {
   "cell_type": "code",
   "execution_count": 15,
   "metadata": {},
   "outputs": [
    {
     "data": {
      "text/plain": [
       "1.3862943611198906"
      ]
     },
     "execution_count": 15,
     "metadata": {},
     "output_type": "execute_result"
    }
   ],
   "source": [
    "doc_forever.tf_idf(\"young\", documents)"
   ]
  },
  {
   "cell_type": "code",
   "execution_count": 22,
   "metadata": {},
   "outputs": [
    {
     "data": {
      "text/plain": [
       ":sort_significance"
      ]
     },
     "execution_count": 22,
     "metadata": {},
     "output_type": "execute_result"
    }
   ],
   "source": [
    "def sort_significance(word, documents)\n",
    "  documents\n",
    "    .map{ |d| { file: d.filename, tf_idf: d.tf_idf(word, documents )}}\n",
    "    .sort_by{ |x| -x[:tf_idf] }\n",
    "    .each_with_index{ |s, i| puts \"#{word} in #{s[:file]} has tf_idf #{s[:tf_idf]}\" + if i == 0 then \" ⭐️\" else \"\" end}\n",
    "end"
   ]
  },
  {
   "cell_type": "code",
   "execution_count": 23,
   "metadata": {},
   "outputs": [
    {
     "name": "stdout",
     "output_type": "stream",
     "text": [
      "you in forever.txt has tf_idf 0.35407024301757645 ⭐️\n",
      "you in rolling.txt has tf_idf 0.28768207245178085\n",
      "you in times.txt has tf_idf 0.28768207245178085\n",
      "you in knocking.txt has tf_idf 0.0\n"
     ]
    },
    {
     "data": {
      "text/plain": [
       "[{file: \"forever.txt\", tf_idf: 0.35407024301757645}, {file: \"rolling.txt\", tf_idf: 0.28768207245178085}, {file: \"times.txt\", tf_idf: 0.28768207245178085}, {file: \"knocking.txt\", tf_idf: 0.0}]"
      ]
     },
     "execution_count": 23,
     "metadata": {},
     "output_type": "execute_result"
    }
   ],
   "source": [
    "sort_significance(\"you\", documents)"
   ]
  },
  {
   "cell_type": "markdown",
   "metadata": {},
   "source": [
    "Wir können das jetzt für eine Reihe von Wörtern machen:"
   ]
  },
  {
   "cell_type": "code",
   "execution_count": 24,
   "metadata": {},
   "outputs": [
    {
     "name": "stdout",
     "output_type": "stream",
     "text": [
      "you in forever.txt has tf_idf 0.35407024301757645 ⭐️\n",
      "you in rolling.txt has tf_idf 0.28768207245178085\n",
      "you in times.txt has tf_idf 0.28768207245178085\n",
      "you in knocking.txt has tf_idf 0.0\n",
      "all in rolling.txt has tf_idf 4.1588830833596715 ⭐️\n",
      "all in forever.txt has tf_idf 0.08664339756999316\n",
      "all in knocking.txt has tf_idf 0.0\n",
      "all in times.txt has tf_idf 0.0\n",
      "young in forever.txt has tf_idf 1.3862943611198906 ⭐️\n",
      "young in knocking.txt has tf_idf 0.0\n",
      "young in rolling.txt has tf_idf 0.0\n",
      "young in times.txt has tf_idf 0.0\n",
      "knocking in knocking.txt has tf_idf 1.3862943611198906 ⭐️\n",
      "knocking in forever.txt has tf_idf 0.0\n",
      "knocking in rolling.txt has tf_idf 0.0\n",
      "knocking in times.txt has tf_idf 0.0\n",
      "door in knocking.txt has tf_idf 1.3862943611198906 ⭐️\n",
      "door in forever.txt has tf_idf 0.0\n",
      "door in rolling.txt has tf_idf 0.0\n",
      "door in times.txt has tf_idf 0.0\n",
      "stone in rolling.txt has tf_idf 0.6931471805599453 ⭐️\n",
      "stone in times.txt has tf_idf 0.6931471805599453\n",
      "stone in forever.txt has tf_idf 0.0\n",
      "stone in knocking.txt has tf_idf 0.0\n",
      "all in rolling.txt has tf_idf 4.1588830833596715 ⭐️\n",
      "all in forever.txt has tf_idf 0.08664339756999316\n",
      "all in knocking.txt has tf_idf 0.0\n",
      "all in times.txt has tf_idf 0.0\n",
      "the in forever.txt has tf_idf 0.0 ⭐️\n",
      "the in knocking.txt has tf_idf 0.0\n",
      "the in rolling.txt has tf_idf 0.0\n",
      "the in times.txt has tf_idf 0.0\n"
     ]
    },
    {
     "data": {
      "text/plain": [
       "[\"you\", \"all\", \"young\", \"knocking\", \"door\", \"stone\", \"all\", \"the\"]"
      ]
     },
     "execution_count": 24,
     "metadata": {},
     "output_type": "execute_result"
    }
   ],
   "source": [
    "%w[you all young knocking door stone all the ].each do |w|\n",
    "  sort_significance(w, documents)\n",
    "end"
   ]
  },
  {
   "cell_type": "markdown",
   "metadata": {},
   "source": [
    "# Fazit\n",
    "\n",
    "Folgendes haben wir gemacht:\n",
    "- mit einem sehr einfachen Mechanismus haben wir bestimmt, welches Dokument für ein gesuchtes Stichwort das wahrscheinlichste ist\n",
    "- Dabei werden häufige Wörter, die aber nicht zur Bedeutung beitragen, ausgefiltert.\n",
    "\n",
    "Was bedeutet dies auch:\n",
    "- jedes Dokument haben wir eigentlich in eine Liste von Zahlen (von Häufigkeiten) umgewandelt\n",
    "- Jedoch hat dies erfordert, dass wir das für alle Dokumente machen.\n",
    "\n",
    "Dies ist einfach, wenn wir eine kleine Stadtbibliothek wie Aarau haben mit XY Dokumenten. Für das ganze Web, das heute vielleicht 1'200'000'000 Seiten (aber nur 200 Mio aktive Seiten) hat, ist das nur mit sehr viel Rechenleistung möglich. Und da jeden Tag 160'000 neue Seiten dazukommen, hört es nie auf.\n",
    "\n",
    "https://colorlib.com/wp/website-statistics-how-many-websites-are-there/\n"
   ]
  }
 ],
 "metadata": {
  "kernelspec": {
   "display_name": "Ruby 3 (iruby kernel)",
   "language": "ruby",
   "name": "ruby3"
  },
  "language_info": {
   "file_extension": ".rb",
   "mimetype": "application/x-ruby",
   "name": "ruby",
   "version": "3.4.2"
  }
 },
 "nbformat": 4,
 "nbformat_minor": 2
}
