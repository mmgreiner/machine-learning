{
 "cells": [
  {
   "cell_type": "code",
   "execution_count": 3,
   "id": "38e1c2a1-aa48-4cdf-96ff-4e6a3402de2a",
   "metadata": {},
   "outputs": [
    {
     "data": {
      "text/plain": [
       "false"
      ]
     },
     "execution_count": 3,
     "metadata": {},
     "output_type": "execute_result"
    }
   ],
   "source": [
    "require 'daru/view'"
   ]
  },
  {
   "cell_type": "code",
   "execution_count": 4,
   "id": "bbdc0e9a-01c3-4c59-baa8-c4eb0eb1769c",
   "metadata": {},
   "outputs": [
    {
     "name": "stderr",
     "output_type": "stream",
     "text": [
      "/usr/local/lib/ruby/gems/3.4.0/gems/daru-data_tables-0.3.5/lib/daru/data_tables/version.rb:3: warning: already initialized constant Daru::View::VERSION\n",
      "/usr/local/lib/ruby/gems/3.4.0/gems/daru-view-0.2.6/lib/daru/view/version.rb:3: warning: previous definition of VERSION was here\n"
     ]
    },
    {
     "data": {
      "text/plain": [
       ":datatables"
      ]
     },
     "execution_count": 4,
     "metadata": {},
     "output_type": "execute_result"
    }
   ],
   "source": [
    "Daru::View.table_library = :datatables"
   ]
  },
  {
   "cell_type": "code",
   "execution_count": 5,
   "id": "dea77af9-f274-4253-9e9e-0259dbe66e8b",
   "metadata": {},
   "outputs": [
    {
     "data": {
      "text/html": [
       "<b> Daru::DataFrame(5x3) </b>\n",
       "<table border=\"1\" class=\"dataframe\">\n",
       "  <thead>\n",
       "  \n",
       "    <tr>\n",
       "      <th></th>\n",
       "      \n",
       "        <th>a</th>\n",
       "      \n",
       "        <th>b</th>\n",
       "      \n",
       "        <th>c</th>\n",
       "      \n",
       "    </tr>\n",
       "  \n",
       "</thead>\n",
       "  <tbody>\n",
       "  \n",
       "    <tr>\n",
       "      <td>one</td>\n",
       "      \n",
       "        <td>1</td>\n",
       "      \n",
       "        <td>11</td>\n",
       "      \n",
       "        <td>11</td>\n",
       "      \n",
       "    </tr>\n",
       "  \n",
       "    <tr>\n",
       "      <td>two</td>\n",
       "      \n",
       "        <td>2</td>\n",
       "      \n",
       "        <td>12</td>\n",
       "      \n",
       "        <td>22</td>\n",
       "      \n",
       "    </tr>\n",
       "  \n",
       "    <tr>\n",
       "      <td>three</td>\n",
       "      \n",
       "        <td>3</td>\n",
       "      \n",
       "        <td>13</td>\n",
       "      \n",
       "        <td>33</td>\n",
       "      \n",
       "    </tr>\n",
       "  \n",
       "    <tr>\n",
       "      <td>four</td>\n",
       "      \n",
       "        <td>4</td>\n",
       "      \n",
       "        <td>14</td>\n",
       "      \n",
       "        <td>44</td>\n",
       "      \n",
       "    </tr>\n",
       "  \n",
       "    <tr>\n",
       "      <td>five</td>\n",
       "      \n",
       "        <td>5</td>\n",
       "      \n",
       "        <td>15</td>\n",
       "      \n",
       "        <td>55</td>\n",
       "      \n",
       "    </tr>\n",
       "  \n",
       "\n",
       "  \n",
       "</tbody>\n",
       "</table>"
      ],
      "text/plain": [
       "#<Daru::DataFrame(5x3)>\n",
       "           a     b     c\n",
       "   one     1    11    11\n",
       "   two     2    12    22\n",
       " three     3    13    33\n",
       "  four     4    14    44\n",
       "  five     5    15    55"
      ]
     },
     "execution_count": 5,
     "metadata": {},
     "output_type": "execute_result"
    }
   ],
   "source": [
    "df = Daru::DataFrame.new({b: [11,12,13,14,15], a: [1,2,3,4,5],\n",
    "      c: [11,22,33,44,55]},\n",
    "      order: [:a, :b, :c],\n",
    "      index: [:one, :two, :three, :four, :five])\n"
   ]
  },
  {
   "cell_type": "code",
   "execution_count": 6,
   "id": "aca63b57-3877-41f5-8fef-9822309bf358",
   "metadata": {},
   "outputs": [
    {
     "data": {
      "text/plain": [
       "#<Daru::View::Table:0x000000012256c778 @data=#<Daru::DataFrame(5x3)>\n",
       "           a     b     c\n",
       "   one     1    11    11\n",
       "   two     2    12    22\n",
       " three     3    13    33\n",
       "  four     4    14    44\n",
       "  five     5    15    55, @options={pageLength: 3, data: [[0, 1, 11, 11], [1, 2, 12, 22], [2, 3, 13, 33], [3, 4, 14, 44], [4, 5, 15, 55]]}, @user_options={}, @adapter=Daru::View::Adapter::DatatablesAdapter, @table=#<Daru::View::DataTable:0x000000012256c188 @html_options={table_options: {class: \"display\", cellspacing: \"0\", width: \"100%\"}}, @data=#<Daru::DataFrame(5x3)>\n",
       "           a     b     c\n",
       "   one     1    11    11\n",
       "   two     2    12    22\n",
       " three     3    13    33\n",
       "  four     4    14    44\n",
       "  five     5    15    55, @options={pageLength: 3, data: [[0, 1, 11, 11], [1, 2, 12, 22], [2, 3, 13, 33], [3, 4, 14, 44], [4, 5, 15, 55]]}>>"
      ]
     },
     "execution_count": 6,
     "metadata": {},
     "output_type": "execute_result"
    }
   ],
   "source": [
    "dt_df = Daru::View::Table.new(df, pageLength: 3)"
   ]
  },
  {
   "cell_type": "code",
   "execution_count": 7,
   "id": "2d9f4155-e6b6-4763-8827-6619c44e52cd",
   "metadata": {},
   "outputs": [
    {
     "data": {
      "text/html": [
       "\n",
       "<script type='text/javascript'>\n",
       "  \n",
       "$(document).ready(function() {\n",
       "\n",
       "\t$('#73de1407-0dec-4bbc-bd2f-de1b1e85b876').DataTable(\n",
       "\t\t{pageLength: 3, data: [[0,1,11,11],[1,2,12,22],[2,3,13,33],[3,4,14,44],[4,5,15,55]]}\n",
       "\t);\n",
       "\n",
       "});\n",
       "</script>\n",
       "<table class=\"display\" cellspacing=\"0\" width=\"100%\" id=\"73de1407-0dec-4bbc-bd2f-de1b1e85b876\"><thead>\n",
       "  \n",
       "    <tr>\n",
       "      <th></th>\n",
       "      \n",
       "        <th>a</th>\n",
       "      \n",
       "        <th>b</th>\n",
       "      \n",
       "        <th>c</th>\n",
       "      \n",
       "    </tr>\n",
       "  \n",
       "</thead></table>"
      ],
      "text/plain": [
       "\"\\n<script type='text/javascript'>\\n  \\n$(document).ready(function() {\\n\\n\\t$('#73de1407-0dec-4bbc-bd2f-de1b1e85b876').DataTable(\\n\\t\\t{pageLength: 3, data: [[0,1,11,11],[1,2,12,22],[2,3,13,33],[3,4,14,44],[4,5,15,55]]}\\n\\t);\\n\\n});\\n</script>\\n<table class=\\\"display\\\" cellspacing=\\\"0\\\" width=\\\"100%\\\" id=\\\"73de1407-0dec-4bbc-bd2f-de1b1e85b876\\\"><thead>\\n  \\n    <tr>\\n      <th></th>\\n      \\n        <th>a</th>\\n      \\n        <th>b</th>\\n      \\n        <th>c</th>\\n      \\n    </tr>\\n  \\n</thead></table>\""
      ]
     },
     "execution_count": 7,
     "metadata": {},
     "output_type": "execute_result"
    }
   ],
   "source": [
    "dt_df.show_in_iruby"
   ]
  },
  {
   "cell_type": "code",
   "execution_count": 8,
   "id": "f9004ce4-a378-4335-8278-e2f429ee888b",
   "metadata": {},
   "outputs": [
    {
     "data": {
      "text/plain": [
       "\"\\n<script type='text/javascript'>\\n  \\n$(document).ready(function() {\\n\\n\\t$('#table_id4').DataTable(\\n\\t\\t{pageLength: 3, data: [[0,1,11,11],[1,2,12,22],[2,3,13,33],[3,4,14,44],[4,5,15,55]]}\\n\\t);\\n\\n});\\n</script>\\n<table class=\\\"display\\\" cellspacing=\\\"0\\\" width=\\\"100%\\\" id=\\\"table_id4\\\"><thead>\\n  \\n    <tr>\\n      <th></th>\\n      \\n        <th>a</th>\\n      \\n        <th>b</th>\\n      \\n        <th>c</th>\\n      \\n    </tr>\\n  \\n</thead></table>\""
      ]
     },
     "execution_count": 8,
     "metadata": {},
     "output_type": "execute_result"
    }
   ],
   "source": [
    "table_opts = {\n",
    "      class: \"display\",\n",
    "      cellspacing: \"0\",\n",
    "      width: \"50%\",\n",
    "      table_html: \"\n",
    "      <thead>\n",
    "            <tr>\n",
    "                <th>Num1 </th>\n",
    "                <th>Num2 </th>\n",
    "                <th>Num3 </th>\n",
    "            </tr>\n",
    "        </thead>\"\n",
    "      }\n",
    "    options = {\n",
    "        table_options: table_opts\n",
    "    }\n",
    "html_code_dt_df = dt_df.table.to_html(id='table_id4', options)"
   ]
  },
  {
   "cell_type": "code",
   "execution_count": 10,
   "id": "2eaaa215-1d14-4f2f-ad9b-1c77bfce55ca",
   "metadata": {},
   "outputs": [
    {
     "data": {
      "text/html": [
       "\n",
       "<script type='text/javascript'>\n",
       "  \n",
       "$(document).ready(function() {\n",
       "\n",
       "\t$('#372b6b6e-0896-4e4f-a7a3-f23ffe657200').DataTable(\n",
       "\t\t{pageLength: 3, data: [[0,1,11,11],[1,2,12,22],[2,3,13,33],[3,4,14,44],[4,5,15,55]]}\n",
       "\t);\n",
       "\n",
       "});\n",
       "</script>\n",
       "<table class=\"display\" cellspacing=\"0\" width=\"100%\" id=\"372b6b6e-0896-4e4f-a7a3-f23ffe657200\"><thead>\n",
       "  \n",
       "    <tr>\n",
       "      <th></th>\n",
       "      \n",
       "        <th>a</th>\n",
       "      \n",
       "        <th>b</th>\n",
       "      \n",
       "        <th>c</th>\n",
       "      \n",
       "    </tr>\n",
       "  \n",
       "</thead></table>"
      ],
      "text/plain": [
       "\"\\n<script type='text/javascript'>\\n  \\n$(document).ready(function() {\\n\\n\\t$('#372b6b6e-0896-4e4f-a7a3-f23ffe657200').DataTable(\\n\\t\\t{pageLength: 3, data: [[0,1,11,11],[1,2,12,22],[2,3,13,33],[3,4,14,44],[4,5,15,55]]}\\n\\t);\\n\\n});\\n</script>\\n<table class=\\\"display\\\" cellspacing=\\\"0\\\" width=\\\"100%\\\" id=\\\"372b6b6e-0896-4e4f-a7a3-f23ffe657200\\\"><thead>\\n  \\n    <tr>\\n      <th></th>\\n      \\n        <th>a</th>\\n      \\n        <th>b</th>\\n      \\n        <th>c</th>\\n      \\n    </tr>\\n  \\n</thead></table>\""
      ]
     },
     "execution_count": 10,
     "metadata": {},
     "output_type": "execute_result"
    }
   ],
   "source": [
    "IRuby.html dt_df.table.to_html"
   ]
  },
  {
   "cell_type": "code",
   "execution_count": null,
   "id": "f0cf6438-bb2d-4eb1-869b-78a893c355a0",
   "metadata": {},
   "outputs": [],
   "source": []
  }
 ],
 "metadata": {
  "kernelspec": {
   "display_name": "Ruby 3 (iruby kernel)",
   "language": "ruby",
   "name": "ruby3"
  },
  "language_info": {
   "file_extension": ".rb",
   "mimetype": "application/x-ruby",
   "name": "ruby",
   "version": "3.4.2"
  }
 },
 "nbformat": 4,
 "nbformat_minor": 5
}
