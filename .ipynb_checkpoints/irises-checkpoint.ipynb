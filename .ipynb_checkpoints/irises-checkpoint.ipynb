{
 "cells": [
  {
   "cell_type": "markdown",
   "id": "d6b8e0da-78e7-4dd9-a09b-d12de7c7c879",
   "metadata": {},
   "source": [
    "# Iris Klassifikation \n",
    "Ruby code für Klassifizierung von Iris Blumen\n"
   ]
  },
  {
   "cell_type": "code",
   "execution_count": 1,
   "id": "89e0ea36-5008-4289-9d7d-c8799fae3cd3",
   "metadata": {},
   "outputs": [
    {
     "data": {
      "text/plain": [
       "true"
      ]
     },
     "execution_count": 1,
     "metadata": {},
     "output_type": "execute_result"
    }
   ],
   "source": [
    "require 'datasets'\n",
    "require 'charty'\n"
   ]
  },
  {
   "cell_type": "markdown",
   "id": "9b377386-2a13-40d6-9ea3-f251e0d94696",
   "metadata": {},
   "source": [
    "Die Daten sind im Internet vorhanden und können runtergeladen werden.\n",
    "\n",
    "siehe https://de.wikipedia.org/wiki/Datei:Bluete-Schema.svg\n",
    "\n",
    "Die Variablen sind:\n",
    "- Sepal Length (Sepal: Kelchblatt)\n",
    "- Sepal width\n",
    "- Petal length (Petal: Kronblatt)\n",
    "- Petal length\n",
    "- class"
   ]
  },
  {
   "cell_type": "code",
   "execution_count": 2,
   "id": "18b4163a-88a8-4603-8f7f-ec2e44b4c7bd",
   "metadata": {},
   "outputs": [
    {
     "data": {
      "text/plain": [
       "#<Datasets::Iris:0x0000000128814218 @metadata=#<struct Datasets::Metadata id=\"iris\", name=\"Iris\", url=\"https://archive.ics.uci.edu/ml/datasets/Iris\", licenses=[#<struct Datasets::License spdx_id=\"CC-BY-4.0\", name=nil, url=nil>], description=#<Proc:0x0000000128813db8 /usr/local/lib/ruby/gems/3.4.0/gems/red-datasets-0.1.8/lib/datasets/iris.rb:19 (lambda)>>>"
      ]
     },
     "execution_count": 2,
     "metadata": {},
     "output_type": "execute_result"
    }
   ],
   "source": [
    "irises = Datasets::Iris.new"
   ]
  },
  {
   "cell_type": "code",
   "execution_count": 3,
   "id": "ff0df8ca-8c90-4cc9-aaab-59803cf753f6",
   "metadata": {},
   "outputs": [
    {
     "data": {
      "text/plain": [
       "#<struct Datasets::Iris::Record sepal_length=5.1, sepal_width=3.5, petal_length=1.4, petal_width=0.2, label=\"Iris-setosa\">"
      ]
     },
     "execution_count": 3,
     "metadata": {},
     "output_type": "execute_result"
    }
   ],
   "source": [
    "irises.first"
   ]
  },
  {
   "cell_type": "code",
   "execution_count": 7,
   "id": "a056f01a-a8e0-41fd-b0d4-a69e88efb589",
   "metadata": {},
   "outputs": [
    {
     "data": {
      "application/vnd.plotly.v1+json": {
       "data": [
        {
         "marker": {
          "color": "#1f77b4ff",
          "line": {
           "color": "#fff",
           "width": 1
          },
          "size": 10
         },
         "mode": "markers",
         "name": "Iris-setosa",
         "type": "scatter",
         "x": [
          5.1,
          4.9,
          4.7,
          4.6,
          5,
          5.4,
          4.6,
          5,
          4.4,
          4.9,
          5.4,
          4.8,
          4.8,
          4.3,
          5.8,
          5.7,
          5.4,
          5.1,
          5.7,
          5.1,
          5.4,
          5.1,
          4.6,
          5.1,
          4.8,
          5,
          5,
          5.2,
          5.2,
          4.7,
          4.8,
          5.4,
          5.2,
          5.5,
          4.9,
          5,
          5.5,
          4.9,
          4.4,
          5.1,
          5,
          4.5,
          4.4,
          5,
          5.1,
          4.8,
          5.1,
          4.6,
          5.3,
          5
         ],
         "y": [
          3.5,
          3,
          3.2,
          3.1,
          3.6,
          3.9,
          3.4,
          3.4,
          2.9,
          3.1,
          3.7,
          3.4,
          3,
          3,
          4,
          4.4,
          3.9,
          3.5,
          3.8,
          3.8,
          3.4,
          3.7,
          3.6,
          3.3,
          3.4,
          3,
          3.4,
          3.5,
          3.4,
          3.2,
          3.1,
          3.4,
          4.1,
          4.2,
          3.1,
          3.2,
          3.5,
          3.1,
          3,
          3.4,
          3.5,
          2.3,
          3.2,
          3.5,
          3.8,
          3,
          3.8,
          3.2,
          3.7,
          3.3
         ]
        },
        {
         "marker": {
          "color": "#ff7f0eff",
          "line": {
           "color": "#fff",
           "width": 1
          },
          "size": 10
         },
         "mode": "markers",
         "name": "Iris-versicolor",
         "type": "scatter",
         "x": [
          7,
          6.4,
          6.9,
          5.5,
          6.5,
          5.7,
          6.3,
          4.9,
          6.6,
          5.2,
          5,
          5.9,
          6,
          6.1,
          5.6,
          6.7,
          5.6,
          5.8,
          6.2,
          5.6,
          5.9,
          6.1,
          6.3,
          6.1,
          6.4,
          6.6,
          6.8,
          6.7,
          6,
          5.7,
          5.5,
          5.5,
          5.8,
          6,
          5.4,
          6,
          6.7,
          6.3,
          5.6,
          5.5,
          5.5,
          6.1,
          5.8,
          5,
          5.6,
          5.7,
          5.7,
          6.2,
          5.1,
          5.7
         ],
         "y": [
          3.2,
          3.2,
          3.1,
          2.3,
          2.8,
          2.8,
          3.3,
          2.4,
          2.9,
          2.7,
          2,
          3,
          2.2,
          2.9,
          2.9,
          3.1,
          3,
          2.7,
          2.2,
          2.5,
          3.2,
          2.8,
          2.5,
          2.8,
          2.9,
          3,
          2.8,
          3,
          2.9,
          2.6,
          2.4,
          2.4,
          2.7,
          2.7,
          3,
          3.4,
          3.1,
          2.3,
          3,
          2.5,
          2.6,
          3,
          2.6,
          2.3,
          2.7,
          3,
          2.9,
          2.9,
          2.5,
          2.8
         ]
        },
        {
         "marker": {
          "color": "#2ca02cff",
          "line": {
           "color": "#fff",
           "width": 1
          },
          "size": 10
         },
         "mode": "markers",
         "name": "Iris-virginica",
         "type": "scatter",
         "x": [
          6.3,
          5.8,
          7.1,
          6.3,
          6.5,
          7.6,
          4.9,
          7.3,
          6.7,
          7.2,
          6.5,
          6.4,
          6.8,
          5.7,
          5.8,
          6.4,
          6.5,
          7.7,
          7.7,
          6,
          6.9,
          5.6,
          7.7,
          6.3,
          6.7,
          7.2,
          6.2,
          6.1,
          6.4,
          7.2,
          7.4,
          7.9,
          6.4,
          6.3,
          6.1,
          7.7,
          6.3,
          6.4,
          6,
          6.9,
          6.7,
          6.9,
          5.8,
          6.8,
          6.7,
          6.7,
          6.3,
          6.5,
          6.2,
          5.9
         ],
         "y": [
          3.3,
          2.7,
          3,
          2.9,
          3,
          3,
          2.5,
          2.9,
          2.5,
          3.6,
          3.2,
          2.7,
          3,
          2.5,
          2.8,
          3.2,
          3,
          3.8,
          2.6,
          2.2,
          3.2,
          2.8,
          2.8,
          2.7,
          3.3,
          3.2,
          2.8,
          3,
          2.8,
          3,
          2.8,
          3.8,
          2.8,
          2.8,
          2.6,
          3,
          3.4,
          3.1,
          3,
          3.1,
          3.1,
          3.1,
          2.7,
          3.2,
          3.3,
          3,
          2.5,
          3,
          3.4,
          3
         ]
        }
       ],
       "layout": {
        "legend": {
         "title": {
          "text": "label"
         }
        },
        "showlegend": true,
        "xaxis": {
         "title": "sepal_length"
        },
        "yaxis": {
         "title": "sepal_width"
        }
       }
      },
      "text/html": [
       "<div>\n",
       "  \n",
       "  \n",
       "  <div id=\"28f03dc2-151a-4100-af2d-64673a0d49a0\" class=\"plotly-graph-div\" style=\"height: 525px; width: 100%;\"></div>\n",
       "  <script type=\"text/javascript\">\n",
       "    require([\"plotly\"], function (Plotly) {\n",
       "      window.PLOTLYENV = window.PLOTLYENV || {};\n",
       "      window.PLOTLYENV.BASE_URL = 'https://plot.ly';\n",
       "      if (document.getElementById(\"28f03dc2-151a-4100-af2d-64673a0d49a0\")) {\n",
       "  Plotly.newPlot(\"28f03dc2-151a-4100-af2d-64673a0d49a0\", [{\"type\":\"scatter\",\"mode\":\"markers\",\"x\":[5.1,4.9,4.7,4.6,5.0,5.4,4.6,5.0,4.4,4.9,5.4,4.8,4.8,4.3,5.8,5.7,5.4,5.1,5.7,5.1,5.4,5.1,4.6,5.1,4.8,5.0,5.0,5.2,5.2,4.7,4.8,5.4,5.2,5.5,4.9,5.0,5.5,4.9,4.4,5.1,5.0,4.5,4.4,5.0,5.1,4.8,5.1,4.6,5.3,5.0],\"y\":[3.5,3.0,3.2,3.1,3.6,3.9,3.4,3.4,2.9,3.1,3.7,3.4,3.0,3.0,4.0,4.4,3.9,3.5,3.8,3.8,3.4,3.7,3.6,3.3,3.4,3.0,3.4,3.5,3.4,3.2,3.1,3.4,4.1,4.2,3.1,3.2,3.5,3.1,3.0,3.4,3.5,2.3,3.2,3.5,3.8,3.0,3.8,3.2,3.7,3.3],\"marker\":{\"line\":{\"width\":1,\"color\":\"#fff\"},\"size\":10,\"color\":\"#1f77b4ff\"},\"name\":\"Iris-setosa\"},{\"type\":\"scatter\",\"mode\":\"markers\",\"x\":[7.0,6.4,6.9,5.5,6.5,5.7,6.3,4.9,6.6,5.2,5.0,5.9,6.0,6.1,5.6,6.7,5.6,5.8,6.2,5.6,5.9,6.1,6.3,6.1,6.4,6.6,6.8,6.7,6.0,5.7,5.5,5.5,5.8,6.0,5.4,6.0,6.7,6.3,5.6,5.5,5.5,6.1,5.8,5.0,5.6,5.7,5.7,6.2,5.1,5.7],\"y\":[3.2,3.2,3.1,2.3,2.8,2.8,3.3,2.4,2.9,2.7,2.0,3.0,2.2,2.9,2.9,3.1,3.0,2.7,2.2,2.5,3.2,2.8,2.5,2.8,2.9,3.0,2.8,3.0,2.9,2.6,2.4,2.4,2.7,2.7,3.0,3.4,3.1,2.3,3.0,2.5,2.6,3.0,2.6,2.3,2.7,3.0,2.9,2.9,2.5,2.8],\"marker\":{\"line\":{\"width\":1,\"color\":\"#fff\"},\"size\":10,\"color\":\"#ff7f0eff\"},\"name\":\"Iris-versicolor\"},{\"type\":\"scatter\",\"mode\":\"markers\",\"x\":[6.3,5.8,7.1,6.3,6.5,7.6,4.9,7.3,6.7,7.2,6.5,6.4,6.8,5.7,5.8,6.4,6.5,7.7,7.7,6.0,6.9,5.6,7.7,6.3,6.7,7.2,6.2,6.1,6.4,7.2,7.4,7.9,6.4,6.3,6.1,7.7,6.3,6.4,6.0,6.9,6.7,6.9,5.8,6.8,6.7,6.7,6.3,6.5,6.2,5.9],\"y\":[3.3,2.7,3.0,2.9,3.0,3.0,2.5,2.9,2.5,3.6,3.2,2.7,3.0,2.5,2.8,3.2,3.0,3.8,2.6,2.2,3.2,2.8,2.8,2.7,3.3,3.2,2.8,3.0,2.8,3.0,2.8,3.8,2.8,2.8,2.6,3.0,3.4,3.1,3.0,3.1,3.1,3.1,2.7,3.2,3.3,3.0,2.5,3.0,3.4,3.0],\"marker\":{\"line\":{\"width\":1,\"color\":\"#fff\"},\"size\":10,\"color\":\"#2ca02cff\"},\"name\":\"Iris-virginica\"}], {\"showlegend\":true,\"legend\":{\"title\":{\"text\":\"label\"}},\"xaxis\":{\"title\":\"sepal_length\"},\"yaxis\":{\"title\":\"sepal_width\"}}, {}).then(function(){ var gd = document.getElementById('28f03dc2-151a-4100-af2d-64673a0d49a0');\n",
       "var x = new MutationObserver(function (mutations, observer) {\n",
       "  var display = window.getComputedStyle(gd).display;\n",
       "  if (!display || display === 'none') {\n",
       "    console.log([gd, 'removed']);\n",
       "    Plotly.purge(gd);\n",
       "    observer.disconnect();\n",
       "  }\n",
       "});\n",
       "\n",
       "// Listen for the removal of the full notebook cell\n",
       "var notebookContainer = gd.closest('#notebook-container');\n",
       "if (notebookContainer) {\n",
       "  x.observe(notebookContainer, {childList: true});\n",
       "}\n",
       "\n",
       "// Listen for the clearing of the current output cell\n",
       "var outputEl = gd.closest('.output');\n",
       "if (outputEl) {\n",
       "  x.observe(outputEl, {childList: true});\n",
       "}\n",
       " });\n",
       "}\n",
       "\n",
       "    });\n",
       "  </script>\n",
       "</div>"
      ],
      "text/plain": [
       "#<Charty::Plotters::ScatterPlotter:0x00000000000006e0>"
      ]
     },
     "execution_count": 7,
     "metadata": {},
     "output_type": "execute_result"
    }
   ],
   "source": [
    "Charty::Backends.use(:plotly)\n",
    "Charty.scatter_plot(data: irises, x: :sepal_length, y: :sepal_width, color: :label)"
   ]
  },
  {
   "cell_type": "code",
   "execution_count": null,
   "id": "a86e3746-a229-43b6-8953-9fc4d5cc5e8a",
   "metadata": {},
   "outputs": [],
   "source": []
  }
 ],
 "metadata": {
  "kernelspec": {
   "display_name": "Ruby 3 (iruby kernel)",
   "language": "ruby",
   "name": "ruby3"
  },
  "language_info": {
   "file_extension": ".rb",
   "mimetype": "application/x-ruby",
   "name": "ruby",
   "version": "3.4.2"
  }
 },
 "nbformat": 4,
 "nbformat_minor": 5
}
